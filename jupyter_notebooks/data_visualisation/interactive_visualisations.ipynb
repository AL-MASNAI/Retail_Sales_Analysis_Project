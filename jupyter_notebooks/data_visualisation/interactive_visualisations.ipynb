{
 "cells": [
  {
   "cell_type": "markdown",
   "id": "51faabbb",
   "metadata": {},
   "source": [
    "# Interactive Visualisations\n",
    "This notebook contains the interactive plots for the project. The plots are generated using the Plotly library and are best viewed here in a live environment like Jupyter Notebook or VS Code."
   ]
  },
  {
   "cell_type": "code",
   "execution_count": null,
   "id": "6945041a",
   "metadata": {},
   "outputs": [],
   "source": [
    "\n",
    "import pandas as pd\n",
    "import plotly.express as px\n",
    "import os\n",
    "\n",
    "# Define the correct relative path to cleaned data\n",
    "data_path = os.path.join(os.getcwd(), '..', 'data', 'processed_data', 'cleaned_sales_data.csv')\n",
    "\n",
    "try:\n",
    "    df = pd.read_csv(data_path, parse_dates=['Date'])\n",
    "    print(\"✅ Data loaded successfully.\")\n",
    "    \n",
    "    # Calculate a 'Total_Markdown' column for the scatter plot\n",
    "    markdown_cols = [col for col in df.columns if 'markdown' in col.lower()]\n",
    "    df['Total_Markdown'] = df[markdown_cols].sum(axis=1) if markdown_cols else 0\n",
    "\n",
    "    # Ensure 'Type' column is available from the Features data\n",
    "    if 'Type' not in df.columns:\n",
    "        print(\"⚠️ 'Type' column not found. Skipping store type comparison plot.\")\n",
    "    \n",
    "except Exception as e:\n",
    "    print(f\"❌ Error loading data: {e}\")\n",
    "\n",
    "\n",
    "# ## 📈 Interactive Sales Trend Plot\n",
    "# This line chart shows the overall weekly sales trend. You can hover over\n",
    "# data points to see sales for a specific date and use the tools in the\n",
    "# top-right corner to zoom in on specific time periods.\n",
    "\n",
    "# Code Cell:\n",
    "if 'df' in locals():\n",
    "    weekly_sales = df.groupby('Date')['Weekly_Sales'].sum().reset_index()\n",
    "    fig = px.line(weekly_sales, x='Date', y='Weekly_Sales',\n",
    "                  title='Interactive Overall Weekly Sales Trend',\n",
    "                  labels={'Weekly_Sales': 'Total Weekly Sales'})\n",
    "    fig.show()\n",
    "\n",
    "\n",
    "# ## 📊 Interactive Sales Comparison by Store Type\n",
    "# This bar chart compares the average sales for each store type (A, B, and C).\n",
    "# It's useful for quickly identifying which store types are most profitable.\n",
    "\n",
    "\n",
    "if 'df' in locals() and 'Type' in df.columns:\n",
    "    store_type_sales = df.groupby('Type')['Weekly_Sales'].mean().reset_index()\n",
    "    fig = px.bar(store_type_sales, x='Type', y='Weekly_Sales',\n",
    "                 title='Interactive Average Weekly Sales by Store Type',\n",
    "                 labels={'Weekly_Sales': 'Average Weekly Sales'})\n",
    "    fig.show()\n",
    "\n",
    "\n",
    "# ## 📉 Interactive Markdown Impact Scatter Plot\n",
    "# This scatter plot visualizes the relationship between markdown amounts and weekly sales,\n",
    "# with different colors for holiday and non-holiday weeks. You can zoom in on clusters\n",
    "# to analyze the impact of promotions.\n",
    "\n",
    "\n",
    "if 'df' in locals():\n",
    "    fig = px.scatter(df, x='Total_Markdown', y='Weekly_Sales', color='IsHoliday',\n",
    "                     hover_data=['Store', 'Date'],\n",
    "                     title='Interactive Markdown Impact on Weekly Sales',\n",
    "                     labels={'Total_Markdown': 'Total Markdown Amount', 'Weekly_Sales': 'Weekly Sales'})\n",
    "    fig.show()"
   ]
  }
 ],
 "metadata": {
  "kernelspec": {
   "display_name": "Python 3",
   "language": "python",
   "name": "python3"
  },
  "language_info": {
   "codemirror_mode": {
    "name": "ipython",
    "version": 3
   },
   "file_extension": ".py",
   "mimetype": "text/x-python",
   "name": "python",
   "nbconvert_exporter": "python",
   "pygments_lexer": "ipython3",
   "version": "3.12.8"
  }
 },
 "nbformat": 4,
 "nbformat_minor": 5
}
